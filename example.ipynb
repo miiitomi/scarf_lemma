{
 "cells": [
  {
   "cell_type": "code",
   "execution_count": 1,
   "metadata": {},
   "outputs": [
    {
     "name": "stdout",
     "output_type": "stream",
     "text": [
      "Step 1: a = [1 2 3], c = [ 2  3 10]\n",
      "Step 2: a = [ 1  3 10], c = [ 3 10 12]\n",
      "Step 3: a = [ 1  3 12], c = [ 3  7 12]\n",
      "Step 4: a = [ 1  7 12], c = [ 7  8 12]\n",
      "Step 5: a = [ 1  8 12], c = [ 4  8 12]\n"
     ]
    },
    {
     "data": {
      "text/plain": [
       "(array([ 4,  8, 12]), array([ 4,  8, 12]))"
      ]
     },
     "execution_count": 1,
     "metadata": {},
     "output_type": "execute_result"
    }
   ],
   "source": [
    "import numpy as np\n",
    "from scarf_lemma import scarf_lemma\n",
    "\n",
    "A = np.array([\n",
    "    [1, 0, 0, 1, 1, 1, 1, 1, 1, 0, 0, 0],\n",
    "    [0, 1, 0, 1, 1, 0, 0, 0, 1, 1, 1, 1],\n",
    "    [0, 0, 1, 0, 0, 0, 1, 1, 1, 1, 1, 1]\n",
    "])\n",
    "b = np.array([1 + 1e-6, 1 + 2e-6, 1 + 3e-6])\n",
    "M = np.arange(100, 87, -1)\n",
    "C = np.array([\n",
    "    [0, M[2], M[3], 12, 3, 2, 9, 5, 4, M[10], M[11], M[12]],\n",
    "    [M[1], 0, M[3], 6, 7, 9, M[7], M[8], M[9], 5, 2, 8],\n",
    "    [M[1], M[2], 0, M[4], M[5], M[6], 3, 8, 10, 6, 9, 4]\n",
    "])\n",
    "scarf_lemma(A, b, C)"
   ]
  }
 ],
 "metadata": {
  "interpreter": {
   "hash": "0935df2c46b369706dd8fcd4e3be2c98df734dc16c87e0aa30af5c09789720eb"
  },
  "kernelspec": {
   "display_name": "Python 3.9.7 64-bit ('base': conda)",
   "language": "python",
   "name": "python3"
  },
  "language_info": {
   "codemirror_mode": {
    "name": "ipython",
    "version": 3
   },
   "file_extension": ".py",
   "mimetype": "text/x-python",
   "name": "python",
   "nbconvert_exporter": "python",
   "pygments_lexer": "ipython3",
   "version": "3.9.7"
  },
  "orig_nbformat": 4
 },
 "nbformat": 4,
 "nbformat_minor": 2
}
